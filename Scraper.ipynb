{
 "cells": [
  {
   "cell_type": "code",
   "execution_count": 1,
   "metadata": {},
   "outputs": [],
   "source": [
    "#import scraping libraries \n",
    "import bs4\n",
    "import requests\n",
    "from bs4 import BeautifulSoup\n",
    "import time\n",
    "\n",
    "#pip install selenium\n",
    "from selenium import webdriver\n",
    "\n",
    "#pip install webdriver_manager --user\n",
    "from webdriver_manager.chrome import ChromeDriverManager"
   ]
  },
  {
   "cell_type": "markdown",
   "metadata": {},
   "source": [
    "# Scraper"
   ]
  },
  {
   "cell_type": "markdown",
   "metadata": {},
   "source": [
    "## There is a 15 sec delay included, because the webpage uses javascript to dynamicly load its content, loading take 3-8 seconds."
   ]
  },
  {
   "cell_type": "code",
   "execution_count": 4,
   "metadata": {
    "scrolled": true
   },
   "outputs": [
    {
     "name": "stderr",
     "output_type": "stream",
     "text": [
      "[WDM] - Cache is valid for [14/06/2020]\n",
      "[WDM] - Looking for [chromedriver 83.0.4103.39 win32] driver in cache \n",
      "[WDM] - Driver found in cache [C:\\Users\\Asus\\.wdm\\drivers\\chromedriver\\83.0.4103.39\\win32\\chromedriver.exe]\n"
     ]
    },
    {
     "name": "stdout",
     "output_type": "stream",
     "text": [
      " \n",
      "['Kejuruteraan Asastera', 'Focus Dynamics', 'Sarawak Consolidated Industries', 'Top Glove Corp', 'Adventa']\n"
     ]
    }
   ],
   "source": [
    "baseurl = \"https://www.investing.com\"\n",
    "link = \"https://www.investing.com/stock-screener/?sp=country::42|sector::a|industry::a|equityType::a|exchange::62|eq_one_year_return::0,867.18|revtrendgr_us::0,195.66<eq_one_year_return;1\"\n",
    "\n",
    "def scraper(baseurl, link):\n",
    "    driver = webdriver.Chrome(ChromeDriverManager().install())\n",
    "\n",
    "    driver.get(link)\n",
    "    time.sleep(15)\n",
    "    html = driver.page_source\n",
    "    soup  = BeautifulSoup(html)\n",
    "\n",
    "    symbol = []\n",
    "    name = []\n",
    "\n",
    "    #scraping table from the webpage\n",
    "    table = soup.find_all('table')[11] #getting first available table\n",
    "\n",
    "    tb_body = table.find('tbody') #getting table body\n",
    "\n",
    "    all_row = tb_body.find_all('tr') #getting all the rows of the table\n",
    "\n",
    "    #increment \n",
    "    i = 0\n",
    "\n",
    "    #getting top 5 stocks from the table \n",
    "    for row in all_row:\n",
    "        cols = row.find_all('td')\n",
    "        cols = [ele.text.strip() for ele in cols]\n",
    "        symbol.append([ele for ele in cols if ele]) # Get rid of empty values\n",
    "        i = i + 1\n",
    "        if(i==5):\n",
    "            break\n",
    "\n",
    "    #getting names of the stocks\n",
    "    name = [item[0] for item in symbol]\n",
    "    return name"
   ]
  },
  {
   "cell_type": "markdown",
   "metadata": {},
   "source": [
    "# 1 month best return stocks "
   ]
  },
  {
   "cell_type": "code",
   "execution_count": 5,
   "metadata": {},
   "outputs": [
    {
     "name": "stderr",
     "output_type": "stream",
     "text": [
      "[WDM] - Cache is valid for [14/06/2020]\n",
      "[WDM] - Looking for [chromedriver 83.0.4103.39 win32] driver in cache \n",
      "[WDM] - Driver found in cache [C:\\Users\\Asus\\.wdm\\drivers\\chromedriver\\83.0.4103.39\\win32\\chromedriver.exe]\n"
     ]
    },
    {
     "name": "stdout",
     "output_type": "stream",
     "text": [
      " \n",
      "['Supermax Corp', 'Top Glove Corp', 'Hartalega', 'Kossan Rubber Ind', 'Bursa Malaysia']\n"
     ]
    }
   ],
   "source": [
    "baseurl = \"https://www.investing.com\"\n",
    "link = \"https://www.investing.com/stock-screener/?sp=country::42|sector::a|industry::a|equityType::a|exchange::62|month_change::-80.95,533.33|a52_week_high::5,149.9%3Cmonth_change;1\"\n",
    "\n",
    "name = scraper(baseurl, link)\n",
    "print(name)"
   ]
  },
  {
   "cell_type": "markdown",
   "metadata": {},
   "source": [
    "# 6 month best return stocks"
   ]
  },
  {
   "cell_type": "code",
   "execution_count": 6,
   "metadata": {},
   "outputs": [
    {
     "name": "stderr",
     "output_type": "stream",
     "text": [
      "[WDM] - Cache is valid for [14/06/2020]\n",
      "[WDM] - Looking for [chromedriver 83.0.4103.39 win32] driver in cache \n",
      "[WDM] - Driver found in cache [C:\\Users\\Asus\\.wdm\\drivers\\chromedriver\\83.0.4103.39\\win32\\chromedriver.exe]\n"
     ]
    },
    {
     "name": "stdout",
     "output_type": "stream",
     "text": [
      " \n",
      "['Supermax Corp', 'Top Glove Corp', 'Hartalega', 'Kossan Rubber Ind', 'Bursa Malaysia']\n"
     ]
    }
   ],
   "source": [
    "baseurl = \"https://www.investing.com\"\n",
    "link = \"https://www.investing.com/stock-screener/?sp=country::42|sector::a|industry::a|equityType::a|exchange::62|ytd::-82.61,538.85|a52_week_high::5,149.9%3Cmonth_change;1\"\n",
    "\n",
    "name = scraper(baseurl, link)\n",
    "print(name)"
   ]
  },
  {
   "cell_type": "markdown",
   "metadata": {},
   "source": [
    "# 1 year best return stocks"
   ]
  },
  {
   "cell_type": "code",
   "execution_count": 7,
   "metadata": {},
   "outputs": [
    {
     "name": "stderr",
     "output_type": "stream",
     "text": [
      "[WDM] - Cache is valid for [14/06/2020]\n",
      "[WDM] - Looking for [chromedriver 83.0.4103.39 win32] driver in cache \n",
      "[WDM] - Driver found in cache [C:\\Users\\Asus\\.wdm\\drivers\\chromedriver\\83.0.4103.39\\win32\\chromedriver.exe]\n"
     ]
    },
    {
     "name": "stdout",
     "output_type": "stream",
     "text": [
      " \n",
      "['Supermax Corp', 'Top Glove Corp', 'Hartalega', 'Kossan Rubber Ind', 'Dufu Tech Corp']\n"
     ]
    }
   ],
   "source": [
    "baseurl = \"https://www.investing.com\"\n",
    "link = \"https://www.investing.com/stock-screener/?sp=country::42|sector::a|industry::a|equityType::a|exchange::62|eq_one_year_return::-93.85,867.18|a52_week_high::5,149.9%3Ceq_one_year_return;1\"\n",
    "\n",
    "name = scraper(baseurl, link)\n",
    "print(name)"
   ]
  }
 ],
 "metadata": {
  "kernelspec": {
   "display_name": "Python 3",
   "language": "python",
   "name": "python3"
  },
  "language_info": {
   "codemirror_mode": {
    "name": "ipython",
    "version": 3
   },
   "file_extension": ".py",
   "mimetype": "text/x-python",
   "name": "python",
   "nbconvert_exporter": "python",
   "pygments_lexer": "ipython3",
   "version": "3.7.7"
  }
 },
 "nbformat": 4,
 "nbformat_minor": 4
}
